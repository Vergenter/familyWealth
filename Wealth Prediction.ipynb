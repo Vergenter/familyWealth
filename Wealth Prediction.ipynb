{
 "cells": [
  {
   "cell_type": "code",
   "execution_count": null,
   "metadata": {},
   "outputs": [],
   "source": [
    "import pandas as pd\n",
    "\n",
    "countries = ['Poland', 'Germany', 'United States']\n",
    "\n",
    "file_path = './dataset/wealth_factor/wealth.csv'\n",
    "df = pd.read_csv(file_path)\n",
    "df = df[df['Country'].isin(countries)]\n",
    "df"
   ]
  },
  {
   "cell_type": "code",
   "execution_count": null,
   "metadata": {},
   "outputs": [],
   "source": [
    "import numpy as np\n",
    "from sklearn.linear_model import LinearRegression\n",
    "\n",
    "for country in countries:\n",
    "    df_country = df[df['Country'] == country]\n",
    "    fields = df_country['Field'].unique()\n",
    "    for field in fields:\n",
    "        df_country_field = df_country[df_country['Field'] == field]\n",
    "        x = df_country_field['Year'].values\n",
    "        y = df_country_field['Wealth Factor'].values\n",
    "        predict_x = [x for x in range(2010, 2026)]\n",
    "        model = LinearRegression(n_jobs = -1)\n",
    "        model.fit(np.reshape(x,(-1,1)), y)\n",
    "        predicted_y = model.predict(np.reshape(predict_x,(-1,1)))\n",
    "        \n",
    "        import matplotlib.pyplot as plt\n",
    "        plt.figure(figsize=(12,6))\n",
    "        plt.scatter(x, y, color = \"red\")\n",
    "        plt.plot(predict_x, predicted_y, color = \"green\")\n",
    "        plt.title(f'Wealth factor in {country} for {field}')\n",
    "        plt.xlabel(\"Year\")\n",
    "        plt.ylabel(\"Wealth Factor\")\n",
    "        plt.show()"
   ]
  },
  {
   "cell_type": "code",
   "execution_count": null,
   "metadata": {},
   "outputs": [],
   "source": []
  }
 ],
 "metadata": {
  "kernelspec": {
   "display_name": "Python 3",
   "language": "python",
   "name": "python3"
  },
  "language_info": {
   "codemirror_mode": {
    "name": "ipython",
    "version": 3
   },
   "file_extension": ".py",
   "mimetype": "text/x-python",
   "name": "python",
   "nbconvert_exporter": "python",
   "pygments_lexer": "ipython3",
   "version": "3.7.6"
  }
 },
 "nbformat": 4,
 "nbformat_minor": 4
}
