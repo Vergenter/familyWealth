{
 "cells": [
  {
   "cell_type": "code",
   "execution_count": null,
   "metadata": {},
   "outputs": [],
   "source": [
    "from pandas import read_csv\n",
    "\n",
    "filename = './dataset/cost_of_living/cost_of_living_per_country_in_dollars.csv'\n",
    "df = read_csv(filename)\n",
    "\n",
    "df"
   ]
  },
  {
   "cell_type": "code",
   "execution_count": null,
   "metadata": {},
   "outputs": [],
   "source": [
    "from pandas import read_csv\n",
    "filename = 'dataset//earnings_split/EAR_4MMN_CUR_NB_A-filtered-2021-03-21.csv'\n",
    "df_incomes_columns_csv = [\"ref_area.label\",\"classif1.label\",\"time\",\"obs_value\"]\n",
    "df_incomes_columns_names = [\"Country\",\"Currency\",\"Year\",\"Income\"]\n",
    "df_incomes = read_csv(filename,usecols=df_incomes_columns_csv)\n",
    "df_incomes = df_incomes[(df_incomes[\"classif1.label\"]==\"Currency: U.S. dollars\") & (df_incomes[\"time\"]>2009)].drop(\"classif1.label\", axis=1)\n",
    "\n",
    "df_incomes = df_incomes.rename(columns={k:v for k,v in zip(df_incomes_columns_csv,df_incomes_columns_names)})\n",
    "df_incomes.head()"
   ]
  },
  {
   "cell_type": "code",
   "execution_count": null,
   "metadata": {},
   "outputs": [],
   "source": [
    "from pandas import merge as pd_merge\n",
    "filename = 'dataset//earnings_split/EAR_4MTH_SEX_ECO_CUR_NB_A-filtered-2021-03-21.csv'\n",
    "df_field_incomes_columns_csv = [\"ref_area.label\",\"classif1.label\",\"classif2.label\",\"time\",\"obs_value\"]\n",
    "df_field_incomes_columns_names = [\"Country\",\"Field\",\"Currency\",\"Year\",\"Income\"]\n",
    "df_field_incomes = read_csv(filename,usecols=df_field_incomes_columns_csv)\n",
    "df_field_incomes = df_field_incomes[(df_field_incomes[\"classif2.label\"]==\"Currency: U.S. dollars\") & (df_field_incomes[\"time\"]>2009)].drop(\"classif2.label\", axis=1)\n",
    "\n",
    "df_field_incomes = df_field_incomes.rename(columns={k:v for k,v in zip(df_field_incomes_columns_csv,df_field_incomes_columns_names)})\n",
    "df_avg_income = df_field_incomes[df_field_incomes[\"Field\"]==\"Economic activity (Aggregate): Total\"].drop(\"Field\", axis=1).rename(columns={\"Income\":\"Average Income\"})\n",
    "df_field_incomes[\"Field\"] = list(map(lambda text: text.split(\":\")[1][1:],df_field_incomes[\"Field\"]))\n",
    "df_field_incomes = pd_merge(df_field_incomes,df_avg_income, on=[\"Year\", \"Country\"],how=\"inner\")\n",
    "df_field_incomes"
   ]
  },
  {
   "cell_type": "code",
   "execution_count": null,
   "metadata": {},
   "outputs": [],
   "source": [
    "import string\n",
    "fields = [letter + '.' for letter in string.ascii_uppercase[:19]] + ['Total']\n",
    "fields = tuple(fields)\n",
    "\n",
    "df_field_incomes = df_field_incomes.loc[df_field_incomes['Field'].str.startswith(fields)]\n",
    "df_field_incomes = df_field_incomes.drop_duplicates()\n",
    "df_field_incomes = df_field_incomes.drop('Average Income', axis=1)\n",
    "df_field_incomes"
   ]
  },
  {
   "cell_type": "code",
   "execution_count": null,
   "metadata": {},
   "outputs": [],
   "source": [
    "df_merged = pd_merge(df, df_field_incomes, on=['Country', 'Year'], how='inner')\n",
    "df_merged.head(20)"
   ]
  },
  {
   "cell_type": "code",
   "execution_count": null,
   "metadata": {},
   "outputs": [],
   "source": [
    "def calculate_wealth(row):\n",
    "    return row['Income'] / row['Cost of living']\n",
    "\n",
    "df_merged['Wealth Factor'] = df_merged.apply(calculate_wealth, axis=1)\n",
    "df_merged"
   ]
  },
  {
   "cell_type": "code",
   "execution_count": null,
   "metadata": {},
   "outputs": [],
   "source": [
    "filename = f'./dataset/wealth_factor/wealth.csv'\n",
    "with open(filename, 'w') as file:\n",
    "    df_merged.to_csv(file, index=False, line_terminator='\\n')"
   ]
  },
  {
   "cell_type": "code",
   "execution_count": null,
   "metadata": {},
   "outputs": [],
   "source": []
  }
 ],
 "metadata": {
  "kernelspec": {
   "display_name": "Python 3",
   "language": "python",
   "name": "python3"
  },
  "language_info": {
   "codemirror_mode": {
    "name": "ipython",
    "version": 3
   },
   "file_extension": ".py",
   "mimetype": "text/x-python",
   "name": "python",
   "nbconvert_exporter": "python",
   "pygments_lexer": "ipython3",
   "version": "3.7.6"
  }
 },
 "nbformat": 4,
 "nbformat_minor": 4
}
