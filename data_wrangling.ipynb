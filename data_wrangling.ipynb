{
 "cells": [
  {
   "cell_type": "markdown",
   "metadata": {},
   "source": [
    "### Cost of living - items "
   ]
  },
  {
   "cell_type": "code",
   "execution_count": null,
   "metadata": {},
   "outputs": [],
   "source": [
    "import os\n",
    "from pandas import concat as pd_concat\n",
    "from pandas import to_numeric\n",
    "from pandas import read_csv\n",
    "\n",
    "\n",
    "# years = [str(year) for year in range(2010, 2021)]\n",
    "# results_by_year = dict(zip(years, [[] for i in range(len(years))]))\n",
    "\n",
    "results_by_item = {}\n",
    "code_mapping = {}\n",
    "\n",
    "directory = \"web_scraper/every_item_by_country_in_usd\"\n",
    "    \n",
    "for file in os.listdir(directory):\n",
    "    file_path = directory + '/' + file\n",
    "    if file_path.endswith('.csv'):\n",
    "        item_code = file[13:file.index('.')]\n",
    "        if item_code in results_by_item:\n",
    "            results_by_item[item_code].append(read_csv(file_path))\n",
    "        else:\n",
    "            results_by_item[item_code] = [read_csv(file_path)]\n",
    "            code_mapping[item_code] = results_by_item[item_code][-1].columns[3]\n",
    "        results_by_item[item_code][-1].drop(['Unnamed: 0', 'Rank'], axis=1, inplace=True)\n",
    "        results_by_item[item_code][-1].rename(columns={results_by_item[item_code][-1].columns[1]: file[8:12]}, inplace = True)\n",
    "        results_by_item[item_code][-1].rename(columns={'City': 'Country'}, inplace = True)\n",
    "        results_by_item[item_code][-1].set_index('Country', inplace=True)\n",
    "        results_by_item[item_code][-1] = results_by_item[item_code][-1].apply(lambda x: to_numeric(x, errors='coerce'))\n",
    "\n",
    "for key in results_by_item:\n",
    "    results_by_item[key] = pd_concat(results_by_item[key], axis=1, join='outer')\n",
    "    results_by_item[key] = results_by_item[key].loc[:,~results_by_item[key].columns.duplicated()]\n",
    "\n",
    "results_by_item['1']"
   ]
  },
  {
   "cell_type": "code",
   "execution_count": null,
   "metadata": {},
   "outputs": [],
   "source": [
    "for key in results_by_item:\n",
    "    for index, row in results_by_item[key].iterrows():\n",
    "        if row.isnull().sum() > 0:\n",
    "            results_by_item[key].drop(index, inplace=True)"
   ]
  },
  {
   "cell_type": "code",
   "execution_count": null,
   "metadata": {},
   "outputs": [],
   "source": [
    "results_by_item['1'].pct_change(axis='columns').max().max()"
   ]
  },
  {
   "cell_type": "code",
   "execution_count": null,
   "metadata": {},
   "outputs": [],
   "source": [
    "print(code_mapping)"
   ]
  },
  {
   "cell_type": "code",
   "execution_count": null,
   "metadata": {},
   "outputs": [],
   "source": [
    "import numpy as np\n",
    "\n",
    "for key in results_by_item:\n",
    "    max_val = results_by_item[key].pct_change(axis='columns').max().max()\n",
    "    if not np.isnan(max_val):\n",
    "        print(code_mapping[key])\n",
    "        print('    ', max_val)"
   ]
  },
  {
   "cell_type": "code",
   "execution_count": null,
   "metadata": {},
   "outputs": [],
   "source": [
    "results_by_item['60'].pct_change(axis='columns').max(axis=0)\n",
    "results_by_item['60'].pct_change(axis='columns').max(axis=1)\n",
    "#wtf vietnam 2010/2011?"
   ]
  },
  {
   "cell_type": "code",
   "execution_count": null,
   "metadata": {},
   "outputs": [],
   "source": []
  },
  {
   "cell_type": "markdown",
   "metadata": {},
   "source": [
    "### Cost of living"
   ]
  },
  {
   "cell_type": "code",
   "execution_count": null,
   "metadata": {},
   "outputs": [],
   "source": [
    "from pandas import read_csv\n",
    "filename = f'./dataset/cost_of_living/cost_of_living.csv'\n",
    "df = read_csv(filename)"
   ]
  },
  {
   "cell_type": "code",
   "execution_count": null,
   "metadata": {},
   "outputs": [],
   "source": [
    "import numpy as np\n",
    "for index, row in df.iterrows():\n",
    "    #print(index, row.isnull().sum(), np.isnan(row['2010']), row['2020'])\n",
    "    if row.isnull().sum() > 1 or np.isnan(row['2010']) or np.isnan(row['2020']):\n",
    "        #print(index)\n",
    "        df.drop(index, inplace=True)\n",
    "\n",
    "df"
   ]
  },
  {
   "cell_type": "code",
   "execution_count": null,
   "metadata": {},
   "outputs": [],
   "source": [
    "df[~df[[str(x) for x in range(2010, 2021)]].notnull().all(1)]"
   ]
  },
  {
   "cell_type": "code",
   "execution_count": null,
   "metadata": {},
   "outputs": [],
   "source": [
    "df.at[56, '2011'] = (df.at[56, '2010']+df.at[56, '2012'])/2\n",
    "df.at[82, '2012'] = (df.at[82, '2011']+df.at[82, '2013'])/2\n",
    "df.at[82, '2012']"
   ]
  },
  {
   "cell_type": "code",
   "execution_count": null,
   "metadata": {},
   "outputs": [],
   "source": [
    "df[~df[[str(x) for x in range(2010, 2021)]].notnull().all(1)]"
   ]
  },
  {
   "cell_type": "code",
   "execution_count": null,
   "metadata": {},
   "outputs": [],
   "source": [
    "df_plt = df"
   ]
  },
  {
   "cell_type": "code",
   "execution_count": null,
   "metadata": {},
   "outputs": [],
   "source": [
    "df_plt.set_index('Country')"
   ]
  },
  {
   "cell_type": "code",
   "execution_count": null,
   "metadata": {},
   "outputs": [],
   "source": [
    "df_plt = df_plt.set_index('Country')\n",
    "df_plt"
   ]
  },
  {
   "cell_type": "code",
   "execution_count": null,
   "metadata": {},
   "outputs": [],
   "source": [
    "df_plt.T.plot(figsize=(24,12))"
   ]
  },
  {
   "cell_type": "code",
   "execution_count": null,
   "metadata": {},
   "outputs": [],
   "source": [
    "df_plt.pct_change(axis='columns').T.plot(figsize=(24,12))"
   ]
  },
  {
   "cell_type": "code",
   "execution_count": null,
   "metadata": {},
   "outputs": [],
   "source": []
  },
  {
   "cell_type": "code",
   "execution_count": null,
   "metadata": {},
   "outputs": [],
   "source": [
    "filename = f'./dataset/cost_of_living/cost_of_living_after_data_wrangling.csv'\n",
    "with open(filename, 'w') as file:\n",
    "    # BE SURE YOU WANT TO OVERWRITE\n",
    "    #df.to_csv(file, index=False, line_terminator='\\n')"
   ]
  },
  {
   "cell_type": "code",
   "execution_count": null,
   "metadata": {},
   "outputs": [],
   "source": []
  },
  {
   "cell_type": "code",
   "execution_count": null,
   "metadata": {},
   "outputs": [],
   "source": []
  }
 ],
 "metadata": {
  "kernelspec": {
   "display_name": "Python 3",
   "language": "python",
   "name": "python3"
  },
  "language_info": {
   "codemirror_mode": {
    "name": "ipython",
    "version": 3
   },
   "file_extension": ".py",
   "mimetype": "text/x-python",
   "name": "python",
   "nbconvert_exporter": "python",
   "pygments_lexer": "ipython3",
   "version": "3.7.6"
  }
 },
 "nbformat": 4,
 "nbformat_minor": 4
}
