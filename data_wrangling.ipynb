{
 "cells": [
  {
   "cell_type": "markdown",
   "metadata": {},
   "source": [
    "### Cost of living"
   ]
  },
  {
   "cell_type": "code",
   "execution_count": null,
   "metadata": {},
   "outputs": [],
   "source": [
    "from pandas import read_csv\n",
    "filename = f'./dataset/cost_of_living/cost_of_living.csv'\n",
    "df = read_csv(filename)"
   ]
  },
  {
   "cell_type": "code",
   "execution_count": null,
   "metadata": {},
   "outputs": [],
   "source": [
    "import numpy as np\n",
    "for index, row in df.iterrows():\n",
    "    #print(index, row.isnull().sum(), np.isnan(row['2010']), row['2020'])\n",
    "    if row.isnull().sum() > 1 or np.isnan(row['2010']) or np.isnan(row['2020']):\n",
    "        #print(index)\n",
    "        df.drop(index, inplace=True)\n",
    "\n",
    "df"
   ]
  },
  {
   "cell_type": "code",
   "execution_count": null,
   "metadata": {},
   "outputs": [],
   "source": [
    "df[~df[[str(x) for x in range(2010, 2021)]].notnull().all(1)]"
   ]
  },
  {
   "cell_type": "code",
   "execution_count": null,
   "metadata": {},
   "outputs": [],
   "source": [
    "df.at[56, '2011'] = (df.at[56, '2010']+df.at[56, '2012'])/2\n",
    "df.at[82, '2012'] = (df.at[82, '2011']+df.at[82, '2013'])/2\n",
    "df.at[82, '2012']"
   ]
  },
  {
   "cell_type": "code",
   "execution_count": null,
   "metadata": {},
   "outputs": [],
   "source": [
    "df[~df[[str(x) for x in range(2010, 2021)]].notnull().all(1)]"
   ]
  },
  {
   "cell_type": "code",
   "execution_count": null,
   "metadata": {},
   "outputs": [],
   "source": [
    "filename = f'./dataset/cost_of_living/cost_of_living_after_data_wrangling.csv'\n",
    "with open(filename, 'w') as file:\n",
    "    df.to_csv(file, index=False, line_terminator='\\n')"
   ]
  },
  {
   "cell_type": "code",
   "execution_count": null,
   "metadata": {},
   "outputs": [],
   "source": []
  },
  {
   "cell_type": "code",
   "execution_count": null,
   "metadata": {},
   "outputs": [],
   "source": []
  }
 ],
 "metadata": {
  "kernelspec": {
   "display_name": "Python 3",
   "language": "python",
   "name": "python3"
  },
  "language_info": {
   "codemirror_mode": {
    "name": "ipython",
    "version": 3
   },
   "file_extension": ".py",
   "mimetype": "text/x-python",
   "name": "python",
   "nbconvert_exporter": "python",
   "pygments_lexer": "ipython3",
   "version": "3.7.6"
  }
 },
 "nbformat": 4,
 "nbformat_minor": 4
}
