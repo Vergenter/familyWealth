{
 "cells": [
  {
   "cell_type": "code",
   "execution_count": null,
   "metadata": {},
   "outputs": [],
   "source": [
    "cost_of_living_weights = {\n",
    "    '1 Pair of Jeans (Levis 501 Or Similar)': 0.35,\n",
    "    '1 Summer Dress in a Chain Store (Zara, H&M, ...)': 0.35,\n",
    "    '1 Pair of Nike Running Shoes (Mid-Range)': 0.35,\n",
    "    '1 Pair of Men Leather Business Shoes': 0.35,\n",
    "    'Milk (regular), (1 liter)': 25,\n",
    "    'Loaf of Fresh White Bread (500g)': 31,\n",
    "    'Rice (white), (1kg)': 14,\n",
    "    'Eggs (regular) (12)': 20,\n",
    "    'Local Cheese (1kg)': 12,\n",
    "    'Chicken Fillets (1kg)': 15,\n",
    "    'Beef Round (1kg) (or Equivalent Back Leg Red Meat)': 15,\n",
    "    'Apples (1kg)': 31,\n",
    "    'Banana (1kg)': 25,\n",
    "    'Oranges (1kg)': 30,\n",
    "    'Tomato (1kg)': 22,\n",
    "    'Potato (1kg)': 24,\n",
    "    'Onion (1kg)': 10,\n",
    "    'Lettuce (1 head)': 18,\n",
    "    'Water (1.5 liter bottle)': 30,\n",
    "    'Bottle of Wine (Mid-Range)': 4,\n",
    "    'Domestic Beer (0.5 liter bottle)': 6,\n",
    "    'Imported Beer (0.33 liter bottle)': 6,\n",
    "    'Cigarettes 20 Pack (Marlboro)': 15,\n",
    "    'Apartment (1 bedroom) in City Centre': 0,\n",
    "    'Apartment (1 bedroom) Outside of Centre': 0,\n",
    "    'Apartment (3 bedrooms) in City Centre': 0,\n",
    "    'Apartment (3 bedrooms) Outside of Centre': 0,\n",
    "    'Meal, Inexpensive Restaurant': 16,\n",
    "    'Meal for 2 People, Mid-range Restaurant, Three-course': 3.5,\n",
    "    'McMeal at McDonalds (or Equivalent Combo Meal)': 6,\n",
    "    'Domestic Beer (0.5 liter draught)': 5,\n",
    "    'Imported Beer (0.33 liter bottle)': 5,\n",
    "    'Cappuccino (regular)': 15,\n",
    "    'Coke/Pepsi (0.33 liter bottle)': 6,\n",
    "    'Water (0.33 liter bottle)': 6,\n",
    "    'Fitness Club, Monthly Fee for 1 Adult': 2.3,\n",
    "    'Tennis Court Rent (1 Hour on Weekend)': 3,\n",
    "    'Cinema, International Release, 1 Seat': 6,\n",
    "    'One-way Ticket (Local Transport)': 20,\n",
    "    'Monthly Pass (Regular Price)': 1.5,\n",
    "    'Taxi Start (Normal Tariff)': 5,\n",
    "    'Taxi 1km (Normal Tariff)': 20,\n",
    "    'Taxi 1hour Waiting (Normal Tariff)': 0.7,\n",
    "    'Gasoline (1 liter)': 60,\n",
    "    'Volkswagen Golf': 0.0035,\n",
    "    'Toyota Corolla Sedan 1.6l 97kW Comfort (Or Equivalent New Car)': 0.0035,\n",
    "    'Basic (Electricity, Heating, Cooling, Water, Garbage) for 85m2 Apartment': 1,\n",
    "    '1 min. of Prepaid Mobile Tariff Local (No Discounts or Plans)': 320,\n",
    "    'Internet (60 Mbps or More, Unlimited Data, Cable/ADSL)': 1\n",
    "}"
   ]
  },
  {
   "cell_type": "code",
   "execution_count": null,
   "metadata": {},
   "outputs": [],
   "source": [
    "import os\n",
    "from pandas import concat as pd_concat\n",
    "from pandas import to_numeric\n",
    "from pandas import read_csv\n",
    "\n",
    "\n",
    "years = [str(year) for year in range(2010, 2021)]\n",
    "results_by_year = dict(zip(years, [[] for i in range(len(years))]))\n",
    "\n",
    "directory = \"web_scraper/every_item_by_country_in_usd\"\n",
    "    \n",
    "for file in os.listdir(directory):\n",
    "    file_path = directory + '/' + file\n",
    "    if file_path.endswith('.csv'):\n",
    "        results_by_year[file[8:12]].append(read_csv(file_path))\n",
    "        results_by_year[file[8:12]][-1].drop(['Unnamed: 0', 'Rank'], axis=1, inplace=True)\n",
    "\n",
    "for key in results_by_year:\n",
    "    results_by_year[key] = pd_concat(results_by_year[key], axis=1, join='outer')\n",
    "    results_by_year[key] = results_by_year[key].loc[:,~results_by_year[key].columns.duplicated()]\n",
    "    results_by_year[key][list(cost_of_living_weights.keys())] = results_by_year[key][list(cost_of_living_weights.keys())].apply(to_numeric, errors='coerce', axis=1)\n",
    "    results_by_year[key]['Cost of living'] = results_by_year[key][list(cost_of_living_weights.keys())].mul(list(cost_of_living_weights.values())).sum(1)\n"
   ]
  },
  {
   "cell_type": "code",
   "execution_count": null,
   "metadata": {},
   "outputs": [],
   "source": [
    "for key in results_by_year:\n",
    "    results_by_year[key] = results_by_year[key][['City', 'Cost of living']]\n",
    "    results_by_year[key].rename(columns = {'City': 'Country', 'Cost of living': key}, inplace = True)\n",
    "    #results_by_year[key]['Year'] = key"
   ]
  },
  {
   "cell_type": "code",
   "execution_count": null,
   "metadata": {},
   "outputs": [],
   "source": [
    "#grouped_df = pd_concat(list(results_by_year.values()), ignore_index=True, sort=False)"
   ]
  },
  {
   "cell_type": "code",
   "execution_count": null,
   "metadata": {},
   "outputs": [],
   "source": [
    "all_countries = set()\n",
    "for key in results_by_year:\n",
    "    all_countries = all_countries.union(set(results_by_year[key]['Country']))\n",
    "\n",
    "all_countries = list(all_countries)\n",
    "all_countries.sort()"
   ]
  },
  {
   "cell_type": "code",
   "execution_count": null,
   "metadata": {},
   "outputs": [],
   "source": [
    "import pandas as pd\n",
    "import numpy as np\n",
    "\n",
    "df = pd.DataFrame(all_countries, columns =['Country'])\n",
    "\n",
    "for key in results_by_year:\n",
    "    df = pd.merge(left=df, right=results_by_year[key], how='left', left_on=['Country'], right_on = ['Country'])\n",
    "\n",
    "df\n",
    "#df[df[[str(x) for x in range(2010, 2021)]].notnull().all(1)]"
   ]
  },
  {
   "cell_type": "code",
   "execution_count": null,
   "metadata": {},
   "outputs": [],
   "source": [
    "for index, row in df.iterrows():\n",
    "    #print(index, row.isnull().sum(), np.isnan(row['2010']), row['2020'])\n",
    "    if row.isnull().sum() > 1 or np.isnan(row['2010']) or np.isnan(row['2020']):\n",
    "        #print(index)\n",
    "        df.drop(index, inplace=True)\n",
    "\n",
    "df"
   ]
  },
  {
   "cell_type": "code",
   "execution_count": null,
   "metadata": {},
   "outputs": [],
   "source": [
    "df[~df[[str(x) for x in range(2010, 2021)]].notnull().all(1)]"
   ]
  },
  {
   "cell_type": "code",
   "execution_count": null,
   "metadata": {},
   "outputs": [],
   "source": [
    "df.at[56, '2011'] = (df.at[56, '2010']+df.at[56, '2012'])/2\n",
    "df.at[82, '2012'] = (df.at[82, '2011']+df.at[82, '2013'])/2\n",
    "df.at[82, '2012']"
   ]
  },
  {
   "cell_type": "code",
   "execution_count": null,
   "metadata": {},
   "outputs": [],
   "source": [
    "df[~df[[str(x) for x in range(2010, 2021)]].notnull().all(1)]"
   ]
  },
  {
   "cell_type": "code",
   "execution_count": null,
   "metadata": {},
   "outputs": [],
   "source": [
    "filename = f'./dataset/cost_of_living/cost_of_living_after_data_wrangling.csv'\n",
    "with open(filename, 'w') as file:\n",
    "    df.to_csv(file, index=False, line_terminator='\\n')"
   ]
  },
  {
   "cell_type": "code",
   "execution_count": null,
   "metadata": {},
   "outputs": [],
   "source": []
  }
 ],
 "metadata": {
  "kernelspec": {
   "display_name": "Python 3",
   "language": "python",
   "name": "python3"
  },
  "language_info": {
   "codemirror_mode": {
    "name": "ipython",
    "version": 3
   },
   "file_extension": ".py",
   "mimetype": "text/x-python",
   "name": "python",
   "nbconvert_exporter": "python",
   "pygments_lexer": "ipython3",
   "version": "3.7.6"
  }
 },
 "nbformat": 4,
 "nbformat_minor": 4
}
