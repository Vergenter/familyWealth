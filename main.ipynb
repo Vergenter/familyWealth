{
 "cells": [
  {
   "cell_type": "markdown",
   "id": "5125fbfb",
   "metadata": {},
   "source": [
    "Read data from csv"
   ]
  },
  {
   "cell_type": "code",
   "execution_count": null,
   "id": "3d14a307",
   "metadata": {},
   "outputs": [],
   "source": [
    "from pandas import read_csv\n",
    "filename = 'dataset//earnings_split/EAR_4MMN_CUR_NB_A-filtered-2021-03-21.csv'\n",
    "df_incomes_columns_csv = [\"ref_area.label\",\"classif1.label\",\"time\",\"obs_value\"]\n",
    "df_incomes_columns_names = [\"Country\",\"Currency\",\"Year\",\"Income\"]\n",
    "df_incomes = read_csv(filename,usecols=df_incomes_columns_csv)\n",
    "df_incomes = df_incomes[(df_incomes[\"classif1.label\"]==\"Currency: U.S. dollars\") & (df_incomes[\"time\"]>2009)]\n",
    "df_incomes = df_incomes.rename(columns={k:v for k,v in zip(df_incomes_columns_csv,df_incomes_columns_names)})"
   ]
  },
  {
   "cell_type": "code",
   "execution_count": null,
   "id": "6c981c74",
   "metadata": {},
   "outputs": [],
   "source": [
    "df_incomes.head()"
   ]
  },
  {
   "cell_type": "code",
   "execution_count": null,
   "id": "30a17ad5",
   "metadata": {},
   "outputs": [],
   "source": [
    "filename = 'dataset//living_index//living_index.csv'\n",
    "indices_columns = [\"Country\",\"Cost of Living Index\",\"Year\", \"Local Purchasing Power Index\"]\n",
    "df_indices = read_csv(filename,usecols=indices_columns)\n",
    "indices_by_country = [dfCountry  for country,dfCountry in df_indices.groupby('Country')]"
   ]
  },
  {
   "cell_type": "code",
   "execution_count": null,
   "id": "8556d513-4856-4652-a269-d8543cc3c916",
   "metadata": {
    "tags": []
   },
   "outputs": [],
   "source": [
    "from math import ceil\n",
    "import matplotlib.pyplot as plt\n",
    "def draw_df_by_groups(dfs,x_name,y_name,legend,groupSize=5):\n",
    "    plots_count = len(dfs)\n",
    "    plot_groups = int(ceil(plots_count/groupSize))\n",
    "    fig, axs = plt.subplots(plot_groups,figsize=(18, plot_groups*5))\n",
    "    for i in range(plots_count):\n",
    "        dfs[i].plot(x=x_name,y=y_name,ax=axs[i//groupSize],ylabel=y_name)\n",
    "        if i%groupSize == groupSize-1 or i==plots_count-1:\n",
    "            axs[i//groupSize].legend(legend[i//groupSize*groupSize:i+1])\n",
    "    fig.show()\n",
    "countries = [country[\"Country\"].values[0] for country in indices_by_country]      \n",
    "draw_df_by_groups(indices_by_country,\"Year\",\"Cost of Living Index\",countries)   "
   ]
  },
  {
   "cell_type": "markdown",
   "id": "53148836-357c-4eec-8a0f-25ff6ae7a6db",
   "metadata": {},
   "source": [
    "## Purchasing power index"
   ]
  },
  {
   "cell_type": "code",
   "execution_count": null,
   "id": "d3c83ef5-5df3-4401-bf65-3232ed54700c",
   "metadata": {},
   "outputs": [],
   "source": [
    "from pandas import merge as pd_merge\n",
    "result = pd_merge(df_indices,df_incomes, on=[\"Year\", \"Country\"],how=\"inner\")\n",
    "print(\"Countries count after merge\",result[\"Country\"].unique().size)\n",
    "result.head()"
   ]
  },
  {
   "cell_type": "code",
   "execution_count": null,
   "id": "d2fda8d9-99ec-411d-aaed-95e9c90ed528",
   "metadata": {},
   "outputs": [],
   "source": [
    "result[\"Custom power index param\"] = result[\"Local Purchasing Power Index\"]/result[\"Income\"]"
   ]
  },
  {
   "cell_type": "code",
   "execution_count": null,
   "id": "93669a6d-58e7-40f5-b1ea-4c49e0614a75",
   "metadata": {},
   "outputs": [],
   "source": [
    "result.head()"
   ]
  },
  {
   "cell_type": "markdown",
   "id": "877c898b",
   "metadata": {},
   "source": [
    "## Fourier tranform"
   ]
  },
  {
   "cell_type": "code",
   "execution_count": null,
   "id": "e2d88b5c",
   "metadata": {},
   "outputs": [],
   "source": [
    "poland_Cost_of_living = df_indices.loc[df_indices['Country'] == \"Poland\"][[\"Cost of Living Index\",\"Year\"]]"
   ]
  },
  {
   "cell_type": "code",
   "execution_count": null,
   "id": "70d6683a",
   "metadata": {},
   "outputs": [],
   "source": [
    "years=poland_Cost_of_living.values[:,1]\n",
    "cost_of_living_index=poland_Cost_of_living.values[:,0]\n",
    "plt.plot(years,cost_of_living_index,'o')"
   ]
  },
  {
   "cell_type": "code",
   "execution_count": null,
   "id": "7b0b9444",
   "metadata": {},
   "outputs": [],
   "source": [
    "from scipy.fft import fft, fftfreq\n",
    "import numpy as np\n",
    "# Number of sample points\n",
    "N = cost_of_living_index.size\n",
    "# sample spacing\n",
    "T = 1\n",
    "yf = fft(cost_of_living_index)\n",
    "xf = fftfreq(N, T)[:N//2]\n",
    "import matplotlib.pyplot as plt\n",
    "plt.plot(xf, 2.0/N * np.abs(yf[0:N//2]))\n",
    "plt.grid()\n",
    "plt.show()"
   ]
  },
  {
   "cell_type": "markdown",
   "id": "79198b53",
   "metadata": {},
   "source": [
    "## Linear regression"
   ]
  },
  {
   "cell_type": "code",
   "execution_count": null,
   "id": "d4eb5acb",
   "metadata": {},
   "outputs": [],
   "source": [
    "x=poland_Cost_of_living.values[:,1]\n",
    "y=poland_Cost_of_living.values[:,0]\n",
    "predict_x = [x for x in range(2009,2026)]"
   ]
  },
  {
   "cell_type": "code",
   "execution_count": null,
   "id": "a37cf276",
   "metadata": {},
   "outputs": [],
   "source": [
    "import numpy as np\n",
    "from sklearn.linear_model import LinearRegression"
   ]
  },
  {
   "cell_type": "code",
   "execution_count": null,
   "id": "a4d9bba5",
   "metadata": {},
   "outputs": [],
   "source": [
    "model = LinearRegression(n_jobs = -1)\n",
    "model.fit(np.reshape(x,(-1,1)), y)\n",
    "predicted_y = model.predict(np.reshape(predict_x,(-1,1)))"
   ]
  },
  {
   "cell_type": "code",
   "execution_count": null,
   "id": "5b5e122e",
   "metadata": {},
   "outputs": [],
   "source": [
    "import matplotlib.pyplot as plt\n",
    "plt.figure(figsize=(12,6))\n",
    "plt.scatter(x, y, color = \"red\")\n",
    "plt.plot(predict_x, predicted_y, color = \"green\")\n",
    "plt.title(\"Cost of living index in Poland\")\n",
    "plt.xlabel(\"Year\")\n",
    "plt.ylabel(\"IndexLevel\")\n",
    "plt.show()"
   ]
  },
  {
   "cell_type": "code",
   "execution_count": null,
   "id": "a6a8a3e7",
   "metadata": {},
   "outputs": [],
   "source": [
    "#ToDo regresja wielomianowa"
   ]
  },
  {
   "cell_type": "code",
   "execution_count": null,
   "id": "d9ec802d",
   "metadata": {},
   "outputs": [],
   "source": []
  }
 ],
 "metadata": {
  "kernelspec": {
   "display_name": "Python 3",
   "language": "python",
   "name": "python3"
  },
  "language_info": {
   "codemirror_mode": {
    "name": "ipython",
    "version": 3
   },
   "file_extension": ".py",
   "mimetype": "text/x-python",
   "name": "python",
   "nbconvert_exporter": "python",
   "pygments_lexer": "ipython3",
   "version": "3.8.5"
  }
 },
 "nbformat": 4,
 "nbformat_minor": 5
}
