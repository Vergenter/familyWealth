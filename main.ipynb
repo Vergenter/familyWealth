{
 "cells": [
  {
   "cell_type": "markdown",
   "id": "hispanic-pavilion",
   "metadata": {},
   "source": [
    "Example text"
   ]
  },
  {
   "cell_type": "code",
   "execution_count": null,
   "id": "tested-secretary",
   "metadata": {},
   "outputs": [],
   "source": [
    "data = \"example python code\"\n",
    "data"
   ]
  },
  {
   "cell_type": "code",
   "execution_count": null,
   "id": "concerned-center",
   "metadata": {},
   "outputs": [],
   "source": [
    "print(data)"
   ]
  },
  {
   "cell_type": "markdown",
   "id": "every-traffic",
   "metadata": {},
   "source": [
    "Read data from csv"
   ]
  },
  {
   "cell_type": "code",
   "execution_count": null,
   "id": "basic-columbia",
   "metadata": {},
   "outputs": [],
   "source": [
    "from pandas import read_csv\n",
    "filename = 'dataset\\\\consumption_split\\\\CPI_ACPI_COI_RT_A-filtered-2021-03-21.csv'\n",
    "dataset = read_csv(filename)"
   ]
  },
  {
   "cell_type": "code",
   "execution_count": null,
   "id": "outside-intensity",
   "metadata": {},
   "outputs": [],
   "source": [
    "dataset.head()"
   ]
  },
  {
   "cell_type": "code",
   "execution_count": null,
   "id": "likely-viewer",
   "metadata": {},
   "outputs": [],
   "source": [
    "filename = 'dataset\\\\living_index\\\\living_index.csv'\n",
    "df = read_csv(filename)"
   ]
  },
  {
   "cell_type": "code",
   "execution_count": null,
   "id": "sharp-luxembourg",
   "metadata": {},
   "outputs": [],
   "source": [
    "byCountry = [dfCountry  for country,dfCountry in df.groupby('Country')]"
   ]
  },
  {
   "cell_type": "code",
   "execution_count": null,
   "id": "computational-music",
   "metadata": {},
   "outputs": [],
   "source": [
    "import numpy as np\n",
    "import matplotlib.pyplot as plt\n",
    "\n",
    "countries = [country[\"Country\"].values[0] for country in byCountry]\n",
    "# print(countries)\n",
    "for i in range(0,len(byCountry),5):\n",
    "    plt.figure();\n",
    "    end = min(len(byCountry),i+5)\n",
    "    for x in range(i,end):\n",
    "        plt.plot(byCountry[x][\"Year\"],byCountry[x][\"Cost of Living Index\"])\n",
    "    plt.legend(countries[i:end])\n",
    "\n",
    "plt.show()\n",
    "\n",
    "#     x, y = lists # unpack a list of pairs into two tuples\n",
    "#     print(y)"
   ]
  },
  {
   "cell_type": "code",
   "execution_count": null,
   "id": "interracial-encoding",
   "metadata": {},
   "outputs": [],
   "source": []
  }
 ],
 "metadata": {
  "kernelspec": {
   "display_name": "Python 3",
   "language": "python",
   "name": "python3"
  },
  "language_info": {
   "codemirror_mode": {
    "name": "ipython",
    "version": 3
   },
   "file_extension": ".py",
   "mimetype": "text/x-python",
   "name": "python",
   "nbconvert_exporter": "python",
   "pygments_lexer": "ipython3",
   "version": "3.7.10"
  }
 },
 "nbformat": 4,
 "nbformat_minor": 5
}
