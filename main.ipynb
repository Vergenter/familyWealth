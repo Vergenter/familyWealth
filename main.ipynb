{
 "cells": [
  {
   "cell_type": "markdown",
   "id": "bf0ce025",
   "metadata": {},
   "source": [
    "Example text"
   ]
  },
  {
   "cell_type": "code",
   "execution_count": null,
   "id": "ca6c8013",
   "metadata": {},
   "outputs": [],
   "source": [
    "data = \"example python code\"\n",
    "data"
   ]
  },
  {
   "cell_type": "code",
   "execution_count": null,
   "id": "2b5dc54b",
   "metadata": {},
   "outputs": [],
   "source": [
    "print(data)"
   ]
  },
  {
   "cell_type": "markdown",
   "id": "5125fbfb",
   "metadata": {},
   "source": [
    "Read data from csv"
   ]
  },
  {
   "cell_type": "code",
   "execution_count": null,
   "id": "3d14a307",
   "metadata": {},
   "outputs": [],
   "source": [
    "from pandas import read_csv\n",
    "filename = 'dataset//consumption_split//CPI_ACPI_COI_RT_A-filtered-2021-03-21.csv'\n",
    "dataset = read_csv(filename)"
   ]
  },
  {
   "cell_type": "code",
   "execution_count": null,
   "id": "6c981c74",
   "metadata": {},
   "outputs": [],
   "source": [
    "dataset.head()"
   ]
  },
  {
   "cell_type": "code",
   "execution_count": null,
   "id": "30a17ad5",
   "metadata": {},
   "outputs": [],
   "source": [
    "filename = 'dataset//living_index//living_index.csv'\n",
    "df = read_csv(filename)"
   ]
  },
  {
   "cell_type": "code",
   "execution_count": null,
   "id": "4abca309",
   "metadata": {},
   "outputs": [],
   "source": [
    "byCountry = [dfCountry  for country,dfCountry in df.groupby('Country')]"
   ]
  },
  {
   "cell_type": "code",
   "execution_count": null,
   "id": "2e5fe336",
   "metadata": {},
   "outputs": [],
   "source": [
    "import numpy as np\n",
    "import matplotlib.pyplot as plt\n",
    "from math import ceil\n",
    "countries = [country[\"Country\"].values[0] for country in byCountry]\n",
    "# print(countries)\n",
    "plots = int(ceil(len(byCountry)/5))\n",
    "fig, axs = plt.subplots(plots,figsize=(18, plots*5))\n",
    "for i in range(0,len(byCountry),5):\n",
    "    end = min(len(byCountry),i+5)\n",
    "    for x in range(i,end):\n",
    "        axs[i//5].plot(byCountry[x][\"Year\"],byCountry[x][\"Cost of Living Index\"])\n",
    "    axs[i//5].legend(countries[i:end])\n",
    "    \n",
    "fig.show()"
   ]
  },
  {
   "cell_type": "markdown",
   "id": "877c898b",
   "metadata": {},
   "source": [
    "## Fourier tranform"
   ]
  },
  {
   "cell_type": "code",
   "execution_count": null,
   "id": "e2d88b5c",
   "metadata": {},
   "outputs": [],
   "source": [
    "poland_Cost_of_living = df.loc[df['Country'] == \"Poland\"][[\"Cost of Living Index\",\"Year\"]]"
   ]
  },
  {
   "cell_type": "code",
   "execution_count": null,
   "id": "70d6683a",
   "metadata": {},
   "outputs": [],
   "source": [
    "years=poland_Cost_of_living.values[:,1]\n",
    "cost_of_living_index=poland_Cost_of_living.values[:,0]"
   ]
  },
  {
   "cell_type": "code",
   "execution_count": null,
   "id": "7b0b9444",
   "metadata": {},
   "outputs": [],
   "source": [
    "from scipy.fft import fft, fftfreq\n",
    "# Number of sample points\n",
    "N = cost_of_living_index.size\n",
    "# sample spacing\n",
    "T = 1\n",
    "yf = fft(cost_of_living_index)\n",
    "xf = fftfreq(N, T)[:N//2]\n",
    "import matplotlib.pyplot as plt\n",
    "plt.plot(xf, 2.0/N * np.abs(yf[0:N//2]))\n",
    "plt.grid()\n",
    "plt.show()"
   ]
  },
  {
   "cell_type": "markdown",
   "id": "79198b53",
   "metadata": {},
   "source": [
    "## Linear regression"
   ]
  },
  {
   "cell_type": "code",
   "execution_count": null,
   "id": "d4eb5acb",
   "metadata": {},
   "outputs": [],
   "source": [
    "x=poland_Cost_of_living.values[:,1]\n",
    "y=poland_Cost_of_living.values[:,0]\n",
    "predict_x = [x for x in range(2009,2026)]"
   ]
  },
  {
   "cell_type": "code",
   "execution_count": null,
   "id": "a37cf276",
   "metadata": {},
   "outputs": [],
   "source": [
    "import numpy as np\n",
    "from sklearn.linear_model import LinearRegression"
   ]
  },
  {
   "cell_type": "code",
   "execution_count": null,
   "id": "a4d9bba5",
   "metadata": {},
   "outputs": [],
   "source": [
    "model = LinearRegression(n_jobs = -1)\n",
    "model.fit(np.reshape(x,(-1,1)), y)\n",
    "predicted_y = model.predict(np.reshape(predict_x,(-1,1)))"
   ]
  },
  {
   "cell_type": "code",
   "execution_count": null,
   "id": "5b5e122e",
   "metadata": {},
   "outputs": [],
   "source": [
    "import matplotlib.pyplot as plt\n",
    "plt.figure(figsize=(12,6))\n",
    "plt.scatter(x, y, color = \"red\")\n",
    "plt.plot(predict_x, predicted_y, color = \"green\")\n",
    "plt.title(\"Cost of living index in Poland\")\n",
    "plt.xlabel(\"Year\")\n",
    "plt.ylabel(\"IndexLevel\")\n",
    "plt.show()"
   ]
  },
  {
   "cell_type": "code",
   "execution_count": null,
   "id": "a6a8a3e7",
   "metadata": {},
   "outputs": [],
   "source": [
    "#ToDo regresja wielomianowa"
   ]
  },
  {
   "cell_type": "code",
   "execution_count": null,
   "id": "d9ec802d",
   "metadata": {},
   "outputs": [],
   "source": []
  }
 ],
 "metadata": {
  "kernelspec": {
   "display_name": "Python 3",
   "language": "python",
   "name": "python3"
  },
  "language_info": {
   "codemirror_mode": {
    "name": "ipython",
    "version": 3
   },
   "file_extension": ".py",
   "mimetype": "text/x-python",
   "name": "python",
   "nbconvert_exporter": "python",
   "pygments_lexer": "ipython3",
   "version": "3.8.5"
  }
 },
 "nbformat": 4,
 "nbformat_minor": 5
}
