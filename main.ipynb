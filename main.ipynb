{
 "cells": [
  {
   "cell_type": "markdown",
   "id": "alpine-recipient",
   "metadata": {},
   "source": [
    "Example text"
   ]
  },
  {
   "cell_type": "code",
   "execution_count": 2,
   "id": "american-penetration",
   "metadata": {},
   "outputs": [
    {
     "data": {
      "text/plain": [
       "'example python code'"
      ]
     },
     "execution_count": 2,
     "metadata": {},
     "output_type": "execute_result"
    }
   ],
   "source": [
    "data = \"example python code\"\n",
    "data"
   ]
  },
  {
   "cell_type": "code",
   "execution_count": 3,
   "id": "ongoing-morgan",
   "metadata": {},
   "outputs": [
    {
     "name": "stdout",
     "output_type": "stream",
     "text": [
      "example python code\n"
     ]
    }
   ],
   "source": [
    "print(data)"
   ]
  },
  {
   "cell_type": "markdown",
   "id": "reflected-columbus",
   "metadata": {},
   "source": [
    "Read data from csv"
   ]
  },
  {
   "cell_type": "code",
   "execution_count": 2,
   "id": "successful-quality",
   "metadata": {},
   "outputs": [],
   "source": [
    "from pandas import read_csv\n",
    "filename = 'dataset\\\\consumption_split\\\\CPI_ACPI_COI_RT_A-filtered-2021-03-21.csv'\n",
    "dataset = read_csv(filename)"
   ]
  },
  {
   "cell_type": "code",
   "execution_count": 3,
   "id": "recovered-article",
   "metadata": {},
   "outputs": [
    {
     "data": {
      "text/html": [
       "<div>\n",
       "<style scoped>\n",
       "    .dataframe tbody tr th:only-of-type {\n",
       "        vertical-align: middle;\n",
       "    }\n",
       "\n",
       "    .dataframe tbody tr th {\n",
       "        vertical-align: top;\n",
       "    }\n",
       "\n",
       "    .dataframe thead th {\n",
       "        text-align: right;\n",
       "    }\n",
       "</style>\n",
       "<table border=\"1\" class=\"dataframe\">\n",
       "  <thead>\n",
       "    <tr style=\"text-align: right;\">\n",
       "      <th></th>\n",
       "      <th>ref_area.label</th>\n",
       "      <th>indicator.label</th>\n",
       "      <th>source.label</th>\n",
       "      <th>classif1.label</th>\n",
       "      <th>time</th>\n",
       "      <th>obs_value</th>\n",
       "      <th>note_classif.label</th>\n",
       "      <th>note_indicator.label</th>\n",
       "      <th>note_source.label</th>\n",
       "    </tr>\n",
       "  </thead>\n",
       "  <tbody>\n",
       "    <tr>\n",
       "      <th>0</th>\n",
       "      <td>Aruba</td>\n",
       "      <td>National consumer price index (CPI), annual ra...</td>\n",
       "      <td>ABW - CPS - Consumer Price Survey</td>\n",
       "      <td>COICOP (Selected categories): General</td>\n",
       "      <td>1985</td>\n",
       "      <td>3.72</td>\n",
       "      <td>NaN</td>\n",
       "      <td>NaN</td>\n",
       "      <td>NaN</td>\n",
       "    </tr>\n",
       "    <tr>\n",
       "      <th>1</th>\n",
       "      <td>Aruba</td>\n",
       "      <td>National consumer price index (CPI), annual ra...</td>\n",
       "      <td>ABW - CPS - Consumer Price Survey</td>\n",
       "      <td>COICOP (Selected categories): Food and non-alc...</td>\n",
       "      <td>1985</td>\n",
       "      <td>-0.20</td>\n",
       "      <td>NaN</td>\n",
       "      <td>NaN</td>\n",
       "      <td>NaN</td>\n",
       "    </tr>\n",
       "    <tr>\n",
       "      <th>2</th>\n",
       "      <td>Aruba</td>\n",
       "      <td>National consumer price index (CPI), annual ra...</td>\n",
       "      <td>ABW - CPS - Consumer Price Survey</td>\n",
       "      <td>COICOP (Selected categories): Clothing and foo...</td>\n",
       "      <td>1985</td>\n",
       "      <td>0.79</td>\n",
       "      <td>NaN</td>\n",
       "      <td>NaN</td>\n",
       "      <td>NaN</td>\n",
       "    </tr>\n",
       "    <tr>\n",
       "      <th>3</th>\n",
       "      <td>Aruba</td>\n",
       "      <td>National consumer price index (CPI), annual ra...</td>\n",
       "      <td>ABW - CPS - Consumer Price Survey</td>\n",
       "      <td>COICOP (Selected categories): Electricity, gas...</td>\n",
       "      <td>1985</td>\n",
       "      <td>6.86</td>\n",
       "      <td>NaN</td>\n",
       "      <td>NaN</td>\n",
       "      <td>NaN</td>\n",
       "    </tr>\n",
       "    <tr>\n",
       "      <th>4</th>\n",
       "      <td>Aruba</td>\n",
       "      <td>National consumer price index (CPI), annual ra...</td>\n",
       "      <td>ABW - CPS - Consumer Price Survey</td>\n",
       "      <td>COICOP (Selected categories): Actual and imput...</td>\n",
       "      <td>1985</td>\n",
       "      <td>2.84</td>\n",
       "      <td>NaN</td>\n",
       "      <td>NaN</td>\n",
       "      <td>NaN</td>\n",
       "    </tr>\n",
       "  </tbody>\n",
       "</table>\n",
       "</div>"
      ],
      "text/plain": [
       "  ref_area.label                                    indicator.label  \\\n",
       "0          Aruba  National consumer price index (CPI), annual ra...   \n",
       "1          Aruba  National consumer price index (CPI), annual ra...   \n",
       "2          Aruba  National consumer price index (CPI), annual ra...   \n",
       "3          Aruba  National consumer price index (CPI), annual ra...   \n",
       "4          Aruba  National consumer price index (CPI), annual ra...   \n",
       "\n",
       "                        source.label  \\\n",
       "0  ABW - CPS - Consumer Price Survey   \n",
       "1  ABW - CPS - Consumer Price Survey   \n",
       "2  ABW - CPS - Consumer Price Survey   \n",
       "3  ABW - CPS - Consumer Price Survey   \n",
       "4  ABW - CPS - Consumer Price Survey   \n",
       "\n",
       "                                      classif1.label  time  obs_value  \\\n",
       "0              COICOP (Selected categories): General  1985       3.72   \n",
       "1  COICOP (Selected categories): Food and non-alc...  1985      -0.20   \n",
       "2  COICOP (Selected categories): Clothing and foo...  1985       0.79   \n",
       "3  COICOP (Selected categories): Electricity, gas...  1985       6.86   \n",
       "4  COICOP (Selected categories): Actual and imput...  1985       2.84   \n",
       "\n",
       "  note_classif.label note_indicator.label note_source.label  \n",
       "0                NaN                  NaN               NaN  \n",
       "1                NaN                  NaN               NaN  \n",
       "2                NaN                  NaN               NaN  \n",
       "3                NaN                  NaN               NaN  \n",
       "4                NaN                  NaN               NaN  "
      ]
     },
     "execution_count": 3,
     "metadata": {},
     "output_type": "execute_result"
    }
   ],
   "source": [
    "dataset.head()"
   ]
  },
  {
   "cell_type": "code",
   "execution_count": null,
   "id": "complex-austria",
   "metadata": {},
   "outputs": [],
   "source": []
  }
 ],
 "metadata": {
  "kernelspec": {
   "display_name": "Python 3",
   "language": "python",
   "name": "python3"
  },
  "language_info": {
   "codemirror_mode": {
    "name": "ipython",
    "version": 3
   },
   "file_extension": ".py",
   "mimetype": "text/x-python",
   "name": "python",
   "nbconvert_exporter": "python",
   "pygments_lexer": "ipython3",
   "version": "3.7.10"
  }
 },
 "nbformat": 4,
 "nbformat_minor": 5
}
