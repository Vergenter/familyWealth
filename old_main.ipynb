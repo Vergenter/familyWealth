{
 "cells": [
  {
   "cell_type": "markdown",
   "id": "cb3f839c-718c-42ef-9213-003e8eaf05be",
   "metadata": {},
   "source": [
    "Read data from csv"
   ]
  },
  {
   "cell_type": "code",
   "execution_count": null,
   "id": "189d14af-94e3-4c34-a53b-48c361f2a952",
   "metadata": {},
   "outputs": [],
   "source": [
    "from pandas import read_csv\n",
    "filename = 'dataset//earnings_split/EAR_4MMN_CUR_NB_A-filtered-2021-03-21.csv'\n",
    "df_incomes_columns_csv = [\"ref_area.label\",\"classif1.label\",\"time\",\"obs_value\"]\n",
    "df_incomes_columns_names = [\"Country\",\"Currency\",\"Year\",\"Income\"]\n",
    "df_incomes = read_csv(filename,usecols=df_incomes_columns_csv)\n",
    "df_incomes = df_incomes[(df_incomes[\"classif1.label\"]==\"Currency: U.S. dollars\") & (df_incomes[\"time\"]>2009)].drop(\"classif1.label\", axis=1)\n",
    "\n",
    "df_incomes = df_incomes.rename(columns={k:v for k,v in zip(df_incomes_columns_csv,df_incomes_columns_names)})\n",
    "df_incomes.head()"
   ]
  },
  {
   "cell_type": "code",
   "execution_count": null,
   "id": "4ca0ef13-c47b-495e-96b1-cc6783e192b2",
   "metadata": {},
   "outputs": [],
   "source": [
    "from pandas import merge as pd_merge\n",
    "filename = 'dataset//earnings_split/EAR_4MTH_SEX_ECO_CUR_NB_A-filtered-2021-03-21.csv'\n",
    "df_field_incomes_columns_csv = [\"ref_area.label\",\"classif1.label\",\"classif2.label\",\"time\",\"obs_value\"]\n",
    "df_field_incomes_columns_names = [\"Country\",\"Field\",\"Currency\",\"Year\",\"Income\"]\n",
    "df_field_incomes = read_csv(filename,usecols=df_field_incomes_columns_csv)\n",
    "df_field_incomes = df_field_incomes[(df_field_incomes[\"classif2.label\"]==\"Currency: U.S. dollars\") & (df_field_incomes[\"time\"]>2009)].drop(\"classif2.label\", axis=1)\n",
    "\n",
    "df_field_incomes = df_field_incomes.rename(columns={k:v for k,v in zip(df_field_incomes_columns_csv,df_field_incomes_columns_names)})\n",
    "df_avg_income = df_field_incomes[df_field_incomes[\"Field\"]==\"Economic activity (Aggregate): Total\"].drop(\"Field\", axis=1).rename(columns={\"Income\":\"Average Income\"})\n",
    "df_field_incomes[\"Field\"] = list(map(lambda text: text.split(\":\")[1][1:],df_field_incomes[\"Field\"]))\n",
    "df_field_incomes = pd_merge(df_field_incomes,df_avg_income, on=[\"Year\", \"Country\"],how=\"inner\")\n",
    "df_field_incomes.head()"
   ]
  },
  {
   "cell_type": "code",
   "execution_count": null,
   "id": "a1d47b72-156f-410e-9374-d4943afb90a8",
   "metadata": {},
   "outputs": [],
   "source": [
    "filename = 'dataset//living_index//living_index.csv'\n",
    "indices_columns = [\"Country\",\"Cost of Living Index\",\"Year\", \"Local Purchasing Power Index\"]\n",
    "df_indices = read_csv(filename,usecols=indices_columns)\n",
    "indices_by_country = [dfCountry  for country,dfCountry in df_indices.groupby('Country')]"
   ]
  },
  {
   "cell_type": "code",
   "execution_count": null,
   "id": "b4e5a73b-37a0-4576-93c5-c053353158b8",
   "metadata": {
    "tags": []
   },
   "outputs": [],
   "source": [
    "from math import ceil\n",
    "import matplotlib.pyplot as plt\n",
    "def draw_df_by_groups(dfs,x_name,y_name,legend,groupSize=5):\n",
    "    plots_count = len(dfs)\n",
    "    plot_groups = int(ceil(plots_count/groupSize))\n",
    "    fig, axs = plt.subplots(plot_groups,figsize=(18, plot_groups*5))\n",
    "    for i in range(plots_count):\n",
    "        dfs[i].plot(x=x_name,y=y_name,ax=axs[i//groupSize])\n",
    "        if i%groupSize == groupSize-1 or i==plots_count-1:\n",
    "            axs[i//groupSize].legend(legend[i//groupSize*groupSize:i+1])\n",
    "    fig.show()"
   ]
  },
  {
   "cell_type": "markdown",
   "id": "be2b2818-bcee-47b6-a196-b81964813c14",
   "metadata": {},
   "source": [
    "Drawing commented out because it takes too much space"
   ]
  },
  {
   "cell_type": "code",
   "execution_count": null,
   "id": "5b51283a-a70e-48dc-b0de-5e25542e9198",
   "metadata": {},
   "outputs": [],
   "source": [
    "# countries = [country[\"Country\"].values[0] for country in indices_by_country]      \n",
    "# draw_df_by_groups(indices_by_country,\"Year\",\"Cost of Living Index\",countries,5)   "
   ]
  },
  {
   "cell_type": "markdown",
   "id": "d6e591a5-18d7-46be-b19b-f30a7adc9868",
   "metadata": {},
   "source": [
    "## Purchasing power index"
   ]
  },
  {
   "cell_type": "code",
   "execution_count": null,
   "id": "d14a0dee-1b00-4f50-a3f3-4bf159cebbdf",
   "metadata": {},
   "outputs": [],
   "source": [
    "df_indices_income_favg = pd_merge(df_indices,df_field_incomes, on=[\"Year\", \"Country\"],how=\"inner\")\n",
    "print(\"Countries count after merge\",df_indices_income_favg[\"Country\"].unique().size)\n",
    "df_indices_income_favg[\"Field Purchasing Power Index\"] = df_indices_income_favg[\"Local Purchasing Power Index\"]/df_indices_income_favg[\"Average Income\"]*df_indices_income_favg[\"Income\"]\n",
    "df_indices_income_favg.head()"
   ]
  },
  {
   "cell_type": "code",
   "execution_count": null,
   "id": "468299ae-95c9-464a-b9f8-5f38b251f943",
   "metadata": {},
   "outputs": [],
   "source": [
    "# temporary fix for Poland\n",
    "# df_indices_income_favg[\"Income\"] =((df_indices_income_favg[\"Year\"]>2017) & (df_indices_income_favg[\"Country\"]==\"Poland\"))*9*df_indices_income_favg[\"Income\"]+df_indices_income_favg[\"Income\"]"
   ]
  },
  {
   "cell_type": "code",
   "execution_count": null,
   "id": "c19cc8d3-2ef4-437c-b46f-5700168562ed",
   "metadata": {},
   "outputs": [],
   "source": [
    "# Polska/Niemcy/Usa\n",
    "def plot_groupby(df_groupedby,x_name,y_name,title=\"\"):\n",
    "    fig, ax = plt.subplots(figsize=(18,18))\n",
    "\n",
    "    for name, group in df_groupedby:\n",
    "        group.plot(x=x_name,y=y_name, ax=ax, label=name,title=title)      #kind='kde',\n",
    "    fig.show()\n",
    "countries = [\"Poland\",\"Germany\",\"United States\"]\n",
    "\n",
    "for country in countries:\n",
    "    plot_groupby(df_indices_income_favg[df_indices_income_favg['Country'] == country].groupby(\"Field\"),x_name=\"Year\",y_name=\"Field Purchasing Power Index\",title=country)\n"
   ]
  },
  {
   "cell_type": "markdown",
   "id": "4ce60522-7060-475c-a575-ff9ee5446a6b",
   "metadata": {},
   "source": [
    "## Fourier tranform"
   ]
  },
  {
   "cell_type": "code",
   "execution_count": null,
   "id": "2059c5f2-ed6a-45c3-bb3c-fadf2ed30ed3",
   "metadata": {},
   "outputs": [],
   "source": [
    "poland_Cost_of_living = df_indices.loc[df_indices['Country'] == \"Poland\"][[\"Cost of Living Index\",\"Year\"]]"
   ]
  },
  {
   "cell_type": "code",
   "execution_count": null,
   "id": "d1a329c8-1834-499f-902b-3f53e7ec307b",
   "metadata": {},
   "outputs": [],
   "source": [
    "years=poland_Cost_of_living.values[:,1]\n",
    "cost_of_living_index=poland_Cost_of_living.values[:,0]\n",
    "plt.plot(years,cost_of_living_index,'o')"
   ]
  },
  {
   "cell_type": "code",
   "execution_count": null,
   "id": "9d6e7660-8fbd-4beb-b8c5-ee5fc047acfb",
   "metadata": {},
   "outputs": [],
   "source": [
    "from scipy.fft import fft, fftfreq\n",
    "import numpy as np\n",
    "# Number of sample points\n",
    "N = cost_of_living_index.size\n",
    "# sample spacing\n",
    "T = 1\n",
    "yf = fft(cost_of_living_index)\n",
    "xf = fftfreq(N, T)[:N//2]\n",
    "import matplotlib.pyplot as plt\n",
    "plt.plot(xf, 2.0/N * np.abs(yf[0:N//2]))\n",
    "plt.grid()\n",
    "plt.show()"
   ]
  },
  {
   "cell_type": "markdown",
   "id": "a27815be-a7ce-4275-b8ef-b79d0c585ce2",
   "metadata": {},
   "source": [
    "## Linear regression"
   ]
  },
  {
   "cell_type": "code",
   "execution_count": null,
   "id": "b1ca09c9-488f-475f-b286-67403f116732",
   "metadata": {},
   "outputs": [],
   "source": [
    "x=poland_Cost_of_living.values[:,1]\n",
    "y=poland_Cost_of_living.values[:,0]\n",
    "predict_x = [x for x in range(2009,2026)]"
   ]
  },
  {
   "cell_type": "code",
   "execution_count": null,
   "id": "5d01bcff-fc8d-4791-9e32-a0cd3a9469f9",
   "metadata": {},
   "outputs": [],
   "source": [
    "import numpy as np\n",
    "from sklearn.linear_model import LinearRegression"
   ]
  },
  {
   "cell_type": "code",
   "execution_count": null,
   "id": "f16df404-2ce3-480f-8769-d500e46b9b04",
   "metadata": {},
   "outputs": [],
   "source": [
    "model = LinearRegression(n_jobs = -1)\n",
    "model.fit(np.reshape(x,(-1,1)), y)\n",
    "predicted_y = model.predict(np.reshape(predict_x,(-1,1)))"
   ]
  },
  {
   "cell_type": "code",
   "execution_count": null,
   "id": "455d2771-e42e-477b-ab06-03dbf6ab8422",
   "metadata": {},
   "outputs": [],
   "source": [
    "import matplotlib.pyplot as plt\n",
    "plt.figure(figsize=(12,6))\n",
    "plt.scatter(x, y, color = \"red\")\n",
    "plt.plot(predict_x, predicted_y, color = \"green\")\n",
    "plt.title(\"Cost of living index in Poland\")\n",
    "plt.xlabel(\"Year\")\n",
    "plt.ylabel(\"IndexLevel\")\n",
    "plt.show()"
   ]
  },
  {
   "cell_type": "code",
   "execution_count": null,
   "id": "35ac2a82-ad69-4972-91aa-cdea666fd8a4",
   "metadata": {},
   "outputs": [],
   "source": [
    "#ToDo regresja wielomianowa"
   ]
  },
  {
   "cell_type": "code",
   "execution_count": null,
   "id": "dc5d2758-6ef1-4406-96b7-7cffb6d43220",
   "metadata": {},
   "outputs": [],
   "source": []
  },
  {
   "cell_type": "code",
   "execution_count": null,
   "id": "2ee78e9d-2422-459c-abc4-525a01cb6695",
   "metadata": {},
   "outputs": [],
   "source": []
  },
  {
   "cell_type": "markdown",
   "id": "fa59031d-54d6-4c67-9647-4acd57f4fd05",
   "metadata": {},
   "source": [
    "# Cost of living - compare countries"
   ]
  },
  {
   "cell_type": "code",
   "execution_count": null,
   "id": "70341d33-74f7-412b-8521-67e2358c77c0",
   "metadata": {},
   "outputs": [],
   "source": [
    "# Get first year of a series\n",
    "first_year = list(results_by_year.keys())[0]\n",
    "\n",
    "# Get country names for that year\n",
    "first_year_countries = results_by_year[first_year]['City']\n",
    "\n",
    "# Use mask to select countires in the first year that are present in every series\n",
    "first_year_mask = [True for i in range(len(first_year_countries))]\n",
    "for year in list(results_by_year.keys())[1:]:\n",
    "    curr_year_countries = results_by_year[year]['City']\n",
    "    mask = np.in1d(first_year_countries, curr_year_countries)\n",
    "    first_year_mask &= mask\n",
    "\n",
    "# Get list of countires that are present in every series\n",
    "list_of_countries = list(first_year_countries[first_year_mask])"
   ]
  },
  {
   "cell_type": "code",
   "execution_count": null,
   "id": "4fe59b7b-34cb-4c2a-a1f1-79b8b5f4210e",
   "metadata": {},
   "outputs": [],
   "source": [
    "# Container for standardized series\n",
    "filtered_countries = []\n",
    "\n",
    "# Filter countries in series\n",
    "for year in list(results_by_year.keys()):\n",
    "    # selecting rows based on condition \n",
    "    curr_series = results_by_year[year]\n",
    "    filtered_curr_series = curr_series[curr_series['City'].isin(list_of_countries)] \n",
    "    filtered_countries.append(filtered_curr_series)"
   ]
  },
  {
   "cell_type": "code",
   "execution_count": null,
   "id": "be482c2b-9495-4f5c-b631-8d28a9786714",
   "metadata": {},
   "outputs": [],
   "source": [
    "# Get series for each country\n",
    "country_series = {}\n",
    "for country in list_of_countries:\n",
    "    country_series[country] = []\n",
    "    \n",
    "# Fill country series\n",
    "for year_dataframe in filtered_countries:\n",
    "    for row in year_dataframe.itertuples():\n",
    "        country_series[row[1]].append(row[2])"
   ]
  },
  {
   "cell_type": "markdown",
   "id": "50e5a72b-0b4d-49e2-914f-04f19eaa7e2d",
   "metadata": {},
   "source": [
    "## Linear comparison"
   ]
  },
  {
   "cell_type": "code",
   "execution_count": null,
   "id": "97c9eceb-50bd-437b-8a00-027050d89d8d",
   "metadata": {},
   "outputs": [],
   "source": [
    "from pandas import Series\n",
    "\n",
    "# Create and fill a matrix for linear distance between countries\n",
    "heatmap_linear = np.zeros((65, 65))\n",
    "\n",
    "for i in range(len(list_of_countries)):\n",
    "    for j in range(len(list_of_countries)):\n",
    "        dist = (np.linalg.norm(Series(country_series[list_of_countries[i]])-Series(country_series[list_of_countries[j]])))\n",
    "        heatmap_linear[i][j] = dist"
   ]
  },
  {
   "cell_type": "code",
   "execution_count": null,
   "id": "59506fe2-3ff9-4c79-a9dd-0a9471ac90cc",
   "metadata": {},
   "outputs": [],
   "source": [
    "plt.figure(figsize=(20, 20))\n",
    "plt.xticks(ticks=np.arange(len(list_of_countries)),labels=list_of_countries,rotation=90)\n",
    "plt.yticks(ticks=np.arange(len(list_of_countries)),labels=list_of_countries)\n",
    "plt.imshow(heatmap_linear, cmap='cool',interpolation=\"nearest\")"
   ]
  },
  {
   "cell_type": "markdown",
   "id": "08bd424c-6227-4e8a-a005-605753a50332",
   "metadata": {},
   "source": [
    "## Differential comparison"
   ]
  },
  {
   "cell_type": "code",
   "execution_count": null,
   "id": "8b630c8e-9a77-4303-8695-70533a578353",
   "metadata": {},
   "outputs": [],
   "source": [
    "# Differential values\n",
    "diff_country_series = {}\n",
    "\n",
    "for key, value in country_series.items():\n",
    "    diff_country_series[key] = list(Series(value).diff(1))[1:]"
   ]
  },
  {
   "cell_type": "code",
   "execution_count": null,
   "id": "462ee8e8-0f9b-4e45-9b3d-66f7de9a01f5",
   "metadata": {},
   "outputs": [],
   "source": [
    "# Create and fill a matrix for linear distance between countries\n",
    "heatmap_differential = np.zeros((65, 65))\n",
    "\n",
    "for i in range(len(list_of_countries)):\n",
    "    for j in range(len(list_of_countries)):\n",
    "        dist = (np.linalg.norm(Series(diff_country_series[list_of_countries[i]])-Series(diff_country_series[list_of_countries[j]])))\n",
    "        heatmap_differential[i][j] = dist"
   ]
  },
  {
   "cell_type": "code",
   "execution_count": null,
   "id": "792ba365-4cc8-4ce0-9314-457b4c907fb9",
   "metadata": {},
   "outputs": [],
   "source": [
    "plt.figure(figsize=(20, 20))\n",
    "plt.xticks(ticks=np.arange(len(list_of_countries)),labels=list_of_countries,rotation=90)\n",
    "plt.yticks(ticks=np.arange(len(list_of_countries)),labels=list_of_countries)\n",
    "plt.imshow(heatmap_differential, cmap='cool',interpolation=\"nearest\")"
   ]
  }
 ],
 "metadata": {
  "kernelspec": {
   "display_name": "Python 3",
   "language": "python",
   "name": "python3"
  },
  "language_info": {
   "codemirror_mode": {
    "name": "ipython",
    "version": 3
   },
   "file_extension": ".py",
   "mimetype": "text/x-python",
   "name": "python",
   "nbconvert_exporter": "python",
   "pygments_lexer": "ipython3",
   "version": "3.8.5"
  }
 },
 "nbformat": 4,
 "nbformat_minor": 5
}
